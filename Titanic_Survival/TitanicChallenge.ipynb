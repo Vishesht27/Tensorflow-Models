{
  "nbformat": 4,
  "nbformat_minor": 0,
  "metadata": {
    "colab": {
      "name": "TitanicChallenge.ipynb",
      "provenance": []
    },
    "kernelspec": {
      "name": "python3",
      "display_name": "Python 3"
    },
    "language_info": {
      "name": "python"
    },
    "accelerator": "GPU"
  },
  "cells": [
    {
      "cell_type": "code",
      "metadata": {
        "id": "mXQP_rpWEwx9"
      },
      "source": [
        "import tensorflow as tf\n",
        "import numpy as np\n",
        "import pandas as pd\n",
        "import seaborn as sns\n",
        "import matplotlib.pyplot as plt\n",
        "from matplotlib.pyplot import rcParams\n",
        "import os\n",
        "from sklearn.model_selection import train_test_split\n",
        "from sklearn.model_selection import GridSearchCV,cross_val_score\n",
        "from sklearn.ensemble import RandomForestClassifier\n",
        "from sklearn.metrics import accuracy_score, f1_score, precision_score, recall_score"
      ],
      "execution_count": null,
      "outputs": []
    },
    {
      "cell_type": "markdown",
      "metadata": {
        "id": "HMwFWq3bHGu1"
      },
      "source": [
        "Reading the data"
      ]
    },
    {
      "cell_type": "code",
      "metadata": {
        "id": "lPFArMqFGqpb"
      },
      "source": [
        "train=pd.read_csv('train.csv')\n",
        "test=pd.read_csv('test.csv')\n",
        "df = pd.concat([train, test], axis=0, sort=True)"
      ],
      "execution_count": null,
      "outputs": []
    },
    {
      "cell_type": "markdown",
      "metadata": {
        "id": "BPZ5Z4iNIPgw"
      },
      "source": [
        "Checking the ratio"
      ]
    },
    {
      "cell_type": "code",
      "metadata": {
        "colab": {
          "base_uri": "https://localhost:8080/"
        },
        "id": "w6c4MjpsISNv",
        "outputId": "d5b55fc7-9064-4b74-c513-9eeea3443848"
      },
      "source": [
        "df['Survived'].value_counts()"
      ],
      "execution_count": null,
      "outputs": [
        {
          "output_type": "execute_result",
          "data": {
            "text/plain": [
              "0.0    549\n",
              "1.0    342\n",
              "Name: Survived, dtype: int64"
            ]
          },
          "metadata": {
            "tags": []
          },
          "execution_count": 22
        }
      ]
    },
    {
      "cell_type": "markdown",
      "metadata": {
        "id": "z3FdTQcAIsVZ"
      },
      "source": [
        "replaced some of the uncommon titles with more common ones for the sake of simplicity.\n"
      ]
    },
    {
      "cell_type": "code",
      "metadata": {
        "colab": {
          "base_uri": "https://localhost:8080/"
        },
        "id": "QAMISbL1Itmi",
        "outputId": "3dce563e-16f4-4413-e6c8-25adfecb975f"
      },
      "source": [
        "df['Title'] = df['Name'].str.extract('([A-Za-z]+)\\.', expand=True)\n",
        "\n",
        "# replacing some titles with more common ones\n",
        "mapping = {'Mlle': 'Miss', 'Major': 'Mr', 'Col': 'Mr', 'Sir': 'Mr',\n",
        "           'Don': 'Mr', 'Mme': 'Mrs', 'Jonkheer': 'Mr', 'Lady': 'Mrs',\n",
        "           'Capt': 'Mr', 'Countess': 'Mrs', 'Ms': 'Miss', 'Dona': 'Mrs'}\n",
        "df.replace({'Title': mapping}, inplace=True)\n",
        "\n",
        "df['Title'].value_counts()"
      ],
      "execution_count": null,
      "outputs": [
        {
          "output_type": "execute_result",
          "data": {
            "text/plain": [
              "Mr        767\n",
              "Miss      264\n",
              "Mrs       201\n",
              "Master     61\n",
              "Dr          8\n",
              "Rev         8\n",
              "Name: Title, dtype: int64"
            ]
          },
          "metadata": {
            "tags": []
          },
          "execution_count": 23
        }
      ]
    },
    {
      "cell_type": "markdown",
      "metadata": {
        "id": "f0uhI2usI10o"
      },
      "source": [
        "Everyone can be grouped into 6 titles and using the titles we created, we can fill in missing ages using the median of all the other individuals with the same title."
      ]
    },
    {
      "cell_type": "code",
      "metadata": {
        "colab": {
          "base_uri": "https://localhost:8080/",
          "height": 301
        },
        "id": "1P6n8a8sIy2N",
        "outputId": "2c055b93-0de6-4339-f142-1af9cf02ef08"
      },
      "source": [
        "#input missing age values using median of title groups\n",
        "\n",
        "title_ages = dict(df.groupby('Title')['Age'].median())\n",
        "\n",
        "df['age_med'] = df['Title'].apply(lambda x: title_ages[x])\n",
        "\n",
        "# replace all missing ages with the value in this column\n",
        "df['Age'].fillna(df['age_med'], inplace=True, )\n",
        "del df['age_med']\n",
        "\n",
        "# viz of survival rates of titles\n",
        "\n",
        "sns.countplot(x='Title', data=df, hue='Survived')\n",
        "plt.xticks(rotation=45)\n",
        "plt.show()"
      ],
      "execution_count": null,
      "outputs": [
        {
          "output_type": "display_data",
          "data": {
            "image/png": "[encoded data removed]",
            "text/plain": [
              "<Figure size 432x288 with 1 Axes>"
            ]
          },
          "metadata": {
            "tags": [],
            "needs_background": "light"
          }
        }
      ]
    },
    {
      "cell_type": "markdown",
      "metadata": {
        "id": "HabuWBG8Jrlw"
      },
      "source": [
        "Next, I do something similar as I did with missing age values, but this time with missing fare values. I used the median fare value for each passenger class as the value for corresponding missing values."
      ]
    },
    {
      "cell_type": "code",
      "metadata": {
        "id": "LPHRgNUaJgrm"
      },
      "source": [
        "# impute missing Fare values using median of Pclass groups\n",
        "class_fares = dict(df.groupby('Pclass')['Fare'].median())\n",
        "\n",
        "# create a column of the average fares\n",
        "df['fare_med'] = df['Pclass'].apply(lambda x: class_fares[x])\n",
        "\n",
        "# replace all missing fares with the value in this column\n",
        "df['Fare'].fillna(df['fare_med'], inplace=True, )\n",
        "del df['fare_med']"
      ],
      "execution_count": null,
      "outputs": []
    },
    {
      "cell_type": "markdown",
      "metadata": {
        "id": "L4Ot8yXwKuHM"
      },
      "source": [
        "There are only 2 missing values in ‘Embarked’ so just I use the method backfill to get rid of the null values. I also create a new variable in the dataset called family size, calculated using the two variables of Parch and SibSp and adding them together.\n"
      ]
    },
    {
      "cell_type": "code",
      "metadata": {
        "id": "kWjFKYlEKvN4"
      },
      "source": [
        "\n",
        "df['Embarked'].fillna(method='backfill', inplace=True)\n",
        "\n",
        "df['Family_Size'] = df['Parch'] + df['SibSp']"
      ],
      "execution_count": null,
      "outputs": []
    },
    {
      "cell_type": "markdown",
      "metadata": {
        "id": "Xo-9W2efK7vo"
      },
      "source": [
        "Spliting up data again for training & testing for making up the neural network\n"
      ]
    },
    {
      "cell_type": "code",
      "metadata": {
        "id": "Ck-qNvxNLa80"
      },
      "source": [
        "train = df[pd.notnull(df['Survived'])]\n",
        "test  = df[pd.isnull(df['Survived'])]"
      ],
      "execution_count": null,
      "outputs": []
    },
    {
      "cell_type": "markdown",
      "metadata": {
        "id": "UYQdIlbqLzd8"
      },
      "source": [
        "Importing some more libraries\n"
      ]
    },
    {
      "cell_type": "code",
      "metadata": {
        "id": "Q36CjOLaL2YD"
      },
      "source": [
        "from sklearn.preprocessing import StandardScaler\n",
        "from sklearn.model_selection import train_test_split\n",
        "from sklearn.model_selection import GridSearchCV\n",
        "from keras.wrappers.scikit_learn import KerasClassifier\n",
        "from keras.models import Sequential\n",
        "from keras.layers import Dense, Activation, Dropout\n",
        "\n",
        "from numpy.random import seed"
      ],
      "execution_count": null,
      "outputs": []
    },
    {
      "cell_type": "markdown",
      "metadata": {
        "id": "N8_qTKtpMBPC"
      },
      "source": [
        "Droping some of the variables that wont be used.\n",
        "\n",
        "Also scaling some continous variables to make it simpler for neural network to test"
      ]
    },
    {
      "cell_type": "code",
      "metadata": {
        "colab": {
          "base_uri": "https://localhost:8080/",
          "height": 202
        },
        "id": "dBSv4uNWMSDS",
        "outputId": "44d544b4-abc3-429d-ebf9-0f3b33e3842c"
      },
      "source": [
        "df.drop(['Cabin', 'Name', 'Ticket', 'PassengerId'], axis=1, inplace=True)\n",
        "\n",
        "continuous = ['Age','Fare','Parch','Pclass','SibSp','Family_Size']\n",
        "\n",
        "scaler = StandardScaler()\n",
        "\n",
        "for var in continuous:\n",
        "     df[var] = df[var].astype('float64')\n",
        "     df[var] = scaler.fit_transform(df[var].values.reshape(-1, 1))\n",
        "   \n",
        "df.head()"
      ],
      "execution_count": null,
      "outputs": [
        {
          "output_type": "execute_result",
          "data": {
            "text/html": [
              "<div>\n",
              "<style scoped>\n",
              "    .dataframe tbody tr th:only-of-type {\n",
              "        vertical-align: middle;\n",
              "    }\n",
              "\n",
              "    .dataframe tbody tr th {\n",
              "        vertical-align: top;\n",
              "    }\n",
              "\n",
              "    .dataframe thead th {\n",
              "        text-align: right;\n",
              "    }\n",
              "</style>\n",
              "<table border=\"1\" class=\"dataframe\">\n",
              "  <thead>\n",
              "    <tr style=\"text-align: right;\">\n",
              "      <th></th>\n",
              "      <th>Age</th>\n",
              "      <th>Embarked</th>\n",
              "      <th>Fare</th>\n",
              "      <th>Parch</th>\n",
              "      <th>Pclass</th>\n",
              "      <th>Sex</th>\n",
              "      <th>SibSp</th>\n",
              "      <th>Survived</th>\n",
              "      <th>Title</th>\n",
              "      <th>Family_Size</th>\n",
              "    </tr>\n",
              "  </thead>\n",
              "  <tbody>\n",
              "    <tr>\n",
              "      <th>0</th>\n",
              "      <td>-0.574635</td>\n",
              "      <td>S</td>\n",
              "      <td>-0.503176</td>\n",
              "      <td>-0.445</td>\n",
              "      <td>0.841916</td>\n",
              "      <td>male</td>\n",
              "      <td>0.481288</td>\n",
              "      <td>0.0</td>\n",
              "      <td>Mr</td>\n",
              "      <td>0.073352</td>\n",
              "    </tr>\n",
              "    <tr>\n",
              "      <th>1</th>\n",
              "      <td>0.641140</td>\n",
              "      <td>C</td>\n",
              "      <td>0.734809</td>\n",
              "      <td>-0.445</td>\n",
              "      <td>-1.546098</td>\n",
              "      <td>female</td>\n",
              "      <td>0.481288</td>\n",
              "      <td>1.0</td>\n",
              "      <td>Mrs</td>\n",
              "      <td>0.073352</td>\n",
              "    </tr>\n",
              "    <tr>\n",
              "      <th>2</th>\n",
              "      <td>-0.270692</td>\n",
              "      <td>S</td>\n",
              "      <td>-0.490126</td>\n",
              "      <td>-0.445</td>\n",
              "      <td>0.841916</td>\n",
              "      <td>female</td>\n",
              "      <td>-0.479087</td>\n",
              "      <td>1.0</td>\n",
              "      <td>Miss</td>\n",
              "      <td>-0.558346</td>\n",
              "    </tr>\n",
              "    <tr>\n",
              "      <th>3</th>\n",
              "      <td>0.413182</td>\n",
              "      <td>S</td>\n",
              "      <td>0.383263</td>\n",
              "      <td>-0.445</td>\n",
              "      <td>-1.546098</td>\n",
              "      <td>female</td>\n",
              "      <td>0.481288</td>\n",
              "      <td>1.0</td>\n",
              "      <td>Mrs</td>\n",
              "      <td>0.073352</td>\n",
              "    </tr>\n",
              "    <tr>\n",
              "      <th>4</th>\n",
              "      <td>0.413182</td>\n",
              "      <td>S</td>\n",
              "      <td>-0.487709</td>\n",
              "      <td>-0.445</td>\n",
              "      <td>0.841916</td>\n",
              "      <td>male</td>\n",
              "      <td>-0.479087</td>\n",
              "      <td>0.0</td>\n",
              "      <td>Mr</td>\n",
              "      <td>-0.558346</td>\n",
              "    </tr>\n",
              "  </tbody>\n",
              "</table>\n",
              "</div>"
            ],
            "text/plain": [
              "        Age Embarked      Fare  Parch  ...     SibSp Survived  Title  Family_Size\n",
              "0 -0.574635        S -0.503176 -0.445  ...  0.481288      0.0     Mr     0.073352\n",
              "1  0.641140        C  0.734809 -0.445  ...  0.481288      1.0    Mrs     0.073352\n",
              "2 -0.270692        S -0.490126 -0.445  ... -0.479087      1.0   Miss    -0.558346\n",
              "3  0.413182        S  0.383263 -0.445  ...  0.481288      1.0    Mrs     0.073352\n",
              "4  0.413182        S -0.487709 -0.445  ... -0.479087      0.0     Mr    -0.558346\n",
              "\n",
              "[5 rows x 10 columns]"
            ]
          },
          "metadata": {
            "tags": []
          },
          "execution_count": 29
        }
      ]
    },
    {
      "cell_type": "markdown",
      "metadata": {
        "id": "2xcUJgLmOOQm"
      },
      "source": [
        "Splitting the data into training and testing data sets"
      ]
    },
    {
      "cell_type": "code",
      "metadata": {
        "id": "dAfrFyKMOVaA"
      },
      "source": [
        "X_train= df[pd.notnull(df['Survived'])].drop(['Survived'],axis=1)\n",
        "y_train= df[pd.notnull(df['Survived'])]['Survived']\n",
        "X_test = df[pd.isnull(df['Survived'])].drop(['Survived'],axis=1)"
      ],
      "execution_count": null,
      "outputs": []
    },
    {
      "cell_type": "markdown",
      "metadata": {
        "id": "sKxbAyA3PV9F"
      },
      "source": [
        "Converting all the columns into feature columns for processing and creating the model.\n",
        "\n",
        "We create an input function that would feed dataframe into out classified model.\n",
        "\n",
        "Tf.estimator.inputs provide a very simple way for doing this \n",
        "\n",
        " It just requires specific features, labels, and batch size. It also has a special argument called shuffle, which allows the model to read the records in a random order, thereby improving model performance."
      ]
    },
    {
      "cell_type": "markdown",
      "metadata": {
        "id": "nabkx_buSPQQ"
      },
      "source": [
        "I also defined our linear classifier. This linear classifier will train a linear model to classify things into one of the two possible classes - i.e. 0 for survival and 0 for not surviving. tf.estimator.LinearClassifier allows this to happen with just a single line of code. As a part of arguments, we have to specify our feature columns, which we created earlier. I also separate our training set into a training set and validation set to validate the model later on."
      ]
    },
    {
      "cell_type": "code",
      "metadata": {
        "colab": {
          "base_uri": "https://localhost:8080/"
        },
        "id": "bRAC_Xk8PzZ0",
        "outputId": "31148cae-1d29-44b2-9938-2b8e32686cd4"
      },
      "source": [
        "import tensorflow as tf\n",
        "\n",
        "Sex = tf.feature_column.categorical_column_with_vocabulary_list(\"Sex\", [\"female\", \"male\"])\n",
        "Embarked = tf.feature_column.categorical_column_with_vocabulary_list(\"Embarked\", [\"S\", \"C\", \"Q\"])\n",
        "Title = tf.feature_column.categorical_column_with_vocabulary_list(\"Title\", ['Mr', 'Mrs', 'Miss', 'Master', 'Rev', 'Dr'])\n",
        "Age = tf.feature_column.numeric_column(\"Age\")\n",
        "Fare = tf.feature_column.numeric_column(\"Fare\")\n",
        "Parch = tf.feature_column.numeric_column(\"Parch\")\n",
        "Pclass = tf.feature_column.numeric_column(\"Pclass\")\n",
        "SibSp = tf.feature_column.numeric_column(\"SibSp\")\n",
        "Family_Size = tf.feature_column.numeric_column(\"Family_Size\")\n",
        "\n",
        "feat_cols = [Sex, Embarked, Title, Age, Fare, Parch, Pclass, SibSp, Family_Size]\n",
        "\n",
        "import tensorflow as tf\n",
        "\n",
        "X_train, X_val, y_train, y_val = train_test_split(X_train, y_train, test_size=0.2, random_state=1)\n",
        "\n",
        "input_func=tf.compat.v1.estimator.inputs.pandas_input_fn(x=X_train,\n",
        "                                               y=y_train,\n",
        "                                               batch_size=100,\n",
        "                                               num_epochs=None,\n",
        "                                               shuffle=True)\n",
        "\n",
        "\n",
        "model = tf.estimator.LinearClassifier(feature_columns = feat_cols)"
      ],
      "execution_count": null,
      "outputs": [
        {
          "output_type": "stream",
          "text": [
            "WARNING:tensorflow:From /usr/local/lib/python3.7/dist-packages/tensorflow/python/util/lazy_loader.py:63: The name tf.estimator.inputs is deprecated. Please use tf.compat.v1.estimator.inputs instead.\n",
            "\n",
            "INFO:tensorflow:Using default config.\n",
            "WARNING:tensorflow:Using temporary folder as model directory: /tmp/tmp8rkaq9q3\n",
            "INFO:tensorflow:Using config: {'_model_dir': '/tmp/tmp8rkaq9q3', '_tf_random_seed': None, '_save_summary_steps': 100, '_save_checkpoints_steps': None, '_save_checkpoints_secs': 600, '_session_config': allow_soft_placement: true\n",
            "graph_options {\n",
            "  rewrite_options {\n",
            "    meta_optimizer_iterations: ONE\n",
            "  }\n",
            "}\n",
            ", '_keep_checkpoint_max': 5, '_keep_checkpoint_every_n_hours': 10000, '_log_step_count_steps': 100, '_train_distribute': None, '_device_fn': None, '_protocol': None, '_eval_distribute': None, '_experimental_distribute': None, '_experimental_max_worker_delay_secs': None, '_session_creation_timeout_secs': 7200, '_checkpoint_save_graph_def': True, '_service': None, '_cluster_spec': ClusterSpec({}), '_task_type': 'worker', '_task_id': 0, '_global_id_in_cluster': 0, '_master': '', '_evaluation_master': '', '_is_chief': True, '_num_ps_replicas': 0, '_num_worker_replicas': 1}\n"
          ],
          "name": "stdout"
        }
      ]
    },
    {
      "cell_type": "markdown",
      "metadata": {
        "id": "9nARn-b1SQ3U"
      },
      "source": [
        "Next, I train my model using max 10000 steps to make sure it does not run forever. We can then use the input function to create a list of predictions that pulls from ‘predictions’ and adds the list of 1’s and 0’s we want into ‘final_preds’. Once we have that, we can print the classification report for our model.\n"
      ]
    },
    {
      "cell_type": "code",
      "metadata": {
        "colab": {
          "base_uri": "https://localhost:8080/"
        },
        "id": "I6_c8RxUSX-R",
        "outputId": "4cc50df6-8fc4-4eea-a027-35f85a1de9d7"
      },
      "source": [
        "model.train(input_fn=input_func,max_steps=10000)\n",
        "\n",
        "pred_fn = tf.compat.v1.estimator.inputs.pandas_input_fn(x=X_val,batch_size=len(X_val),shuffle=False)\n",
        "\n",
        "predictions = list(model.predict(input_fn=pred_fn))\n",
        "final_preds = []\n",
        "for pred in predictions:\n",
        "    final_preds.append(pred['class_ids'][0])\n",
        "    \n",
        "from sklearn.metrics import classification_report\n",
        "print(classification_report(y_val,final_preds))"
      ],
      "execution_count": null,
      "outputs": [
        {
          "output_type": "stream",
          "text": [
            "WARNING:tensorflow:From /usr/local/lib/python3.7/dist-packages/tensorflow/python/training/training_util.py:236: Variable.initialized_value (from tensorflow.python.ops.variables) is deprecated and will be removed in a future version.\n",
            "Instructions for updating:\n",
            "Use Variable.read_value. Variables in 2.X are initialized automatically both in eager and graph (inside tf.defun) contexts.\n",
            "WARNING:tensorflow:From /usr/local/lib/python3.7/dist-packages/tensorflow_estimator/python/estimator/inputs/queues/feeding_queue_runner.py:65: QueueRunner.__init__ (from tensorflow.python.training.queue_runner_impl) is deprecated and will be removed in a future version.\n",
            "Instructions for updating:\n",
            "To construct input pipelines, use the `tf.data` module.\n",
            "WARNING:tensorflow:From /usr/local/lib/python3.7/dist-packages/tensorflow_estimator/python/estimator/inputs/queues/feeding_functions.py:491: add_queue_runner (from tensorflow.python.training.queue_runner_impl) is deprecated and will be removed in a future version.\n",
            "Instructions for updating:\n",
            "To construct input pipelines, use the `tf.data` module.\n",
            "INFO:tensorflow:Calling model_fn.\n"
          ],
          "name": "stdout"
        },
        {
          "output_type": "stream",
          "text": [
            "/usr/local/lib/python3.7/dist-packages/tensorflow/python/keras/engine/base_layer_v1.py:1727: UserWarning: `layer.add_variable` is deprecated and will be removed in a future version. Please use `layer.add_weight` method instead.\n",
            "  warnings.warn('`layer.add_variable` is deprecated and '\n"
          ],
          "name": "stderr"
        },
        {
          "output_type": "stream",
          "text": [
            "WARNING:tensorflow:From /usr/local/lib/python3.7/dist-packages/tensorflow/python/keras/optimizer_v2/ftrl.py:134: calling Constant.__init__ (from tensorflow.python.ops.init_ops) with dtype is deprecated and will be removed in a future version.\n",
            "Instructions for updating:\n",
            "Call initializer instance with the dtype argument instead of passing it to the constructor\n",
            "INFO:tensorflow:Done calling model_fn.\n",
            "INFO:tensorflow:Create CheckpointSaverHook.\n",
            "INFO:tensorflow:Graph was finalized.\n",
            "INFO:tensorflow:Running local_init_op.\n",
            "INFO:tensorflow:Done running local_init_op.\n",
            "WARNING:tensorflow:From /usr/local/lib/python3.7/dist-packages/tensorflow/python/training/monitored_session.py:906: start_queue_runners (from tensorflow.python.training.queue_runner_impl) is deprecated and will be removed in a future version.\n",
            "Instructions for updating:\n",
            "To construct input pipelines, use the `tf.data` module.\n",
            "INFO:tensorflow:Calling checkpoint listeners before saving checkpoint 0...\n",
            "INFO:tensorflow:Saving checkpoints for 0 into /tmp/tmp8rkaq9q3/model.ckpt.\n",
            "INFO:tensorflow:Calling checkpoint listeners after saving checkpoint 0...\n",
            "INFO:tensorflow:loss = 0.6931472, step = 0\n",
            "INFO:tensorflow:global_step/sec: 138.121\n",
            "INFO:tensorflow:loss = 0.40652457, step = 100 (0.729 sec)\n",
            "INFO:tensorflow:global_step/sec: 161.893\n",
            "INFO:tensorflow:loss = 0.4061792, step = 200 (0.616 sec)\n",
            "INFO:tensorflow:global_step/sec: 153.306\n",
            "INFO:tensorflow:loss = 0.34654462, step = 300 (0.652 sec)\n",
            "INFO:tensorflow:global_step/sec: 153.299\n",
            "INFO:tensorflow:loss = 0.4288449, step = 400 (0.654 sec)\n",
            "INFO:tensorflow:global_step/sec: 156.02\n",
            "INFO:tensorflow:loss = 0.42812598, step = 500 (0.642 sec)\n",
            "INFO:tensorflow:global_step/sec: 158.542\n",
            "INFO:tensorflow:loss = 0.2943638, step = 600 (0.628 sec)\n",
            "INFO:tensorflow:global_step/sec: 158.823\n",
            "INFO:tensorflow:loss = 0.31828204, step = 700 (0.632 sec)\n",
            "INFO:tensorflow:global_step/sec: 161.91\n",
            "INFO:tensorflow:loss = 0.36685017, step = 800 (0.614 sec)\n",
            "INFO:tensorflow:global_step/sec: 161.519\n",
            "INFO:tensorflow:loss = 0.42884701, step = 900 (0.622 sec)\n",
            "INFO:tensorflow:global_step/sec: 152.839\n",
            "INFO:tensorflow:loss = 0.43921113, step = 1000 (0.654 sec)\n",
            "INFO:tensorflow:global_step/sec: 153.239\n",
            "INFO:tensorflow:loss = 0.33970234, step = 1100 (0.650 sec)\n",
            "INFO:tensorflow:global_step/sec: 162.91\n",
            "INFO:tensorflow:loss = 0.35773036, step = 1200 (0.617 sec)\n",
            "INFO:tensorflow:global_step/sec: 157.815\n",
            "INFO:tensorflow:loss = 0.3914009, step = 1300 (0.634 sec)\n",
            "INFO:tensorflow:global_step/sec: 163.364\n",
            "INFO:tensorflow:loss = 0.4124417, step = 1400 (0.611 sec)\n",
            "INFO:tensorflow:global_step/sec: 163.293\n",
            "INFO:tensorflow:loss = 0.33424354, step = 1500 (0.614 sec)\n",
            "INFO:tensorflow:global_step/sec: 160.976\n",
            "INFO:tensorflow:loss = 0.28388852, step = 1600 (0.620 sec)\n",
            "INFO:tensorflow:global_step/sec: 161.618\n",
            "INFO:tensorflow:loss = 0.48204666, step = 1700 (0.619 sec)\n",
            "INFO:tensorflow:global_step/sec: 158.052\n",
            "INFO:tensorflow:loss = 0.4751306, step = 1800 (0.629 sec)\n",
            "INFO:tensorflow:global_step/sec: 150.668\n",
            "INFO:tensorflow:loss = 0.40201122, step = 1900 (0.669 sec)\n",
            "INFO:tensorflow:global_step/sec: 160.124\n",
            "INFO:tensorflow:loss = 0.31144983, step = 2000 (0.622 sec)\n",
            "INFO:tensorflow:global_step/sec: 157.069\n",
            "INFO:tensorflow:loss = 0.32031357, step = 2100 (0.637 sec)\n",
            "INFO:tensorflow:global_step/sec: 158.824\n",
            "INFO:tensorflow:loss = 0.48525986, step = 2200 (0.627 sec)\n",
            "INFO:tensorflow:global_step/sec: 163.433\n",
            "INFO:tensorflow:loss = 0.4125565, step = 2300 (0.614 sec)\n",
            "INFO:tensorflow:global_step/sec: 160.805\n",
            "INFO:tensorflow:loss = 0.37494874, step = 2400 (0.623 sec)\n",
            "INFO:tensorflow:global_step/sec: 164.544\n",
            "INFO:tensorflow:loss = 0.41883972, step = 2500 (0.607 sec)\n",
            "INFO:tensorflow:global_step/sec: 161.667\n",
            "INFO:tensorflow:loss = 0.32292116, step = 2600 (0.619 sec)\n",
            "INFO:tensorflow:global_step/sec: 164.698\n",
            "INFO:tensorflow:loss = 0.42839277, step = 2700 (0.610 sec)\n",
            "INFO:tensorflow:global_step/sec: 156.466\n",
            "INFO:tensorflow:loss = 0.36473522, step = 2800 (0.635 sec)\n",
            "INFO:tensorflow:global_step/sec: 158.148\n",
            "INFO:tensorflow:loss = 0.39676476, step = 2900 (0.633 sec)\n",
            "INFO:tensorflow:global_step/sec: 159.903\n",
            "INFO:tensorflow:loss = 0.5334844, step = 3000 (0.625 sec)\n",
            "INFO:tensorflow:global_step/sec: 160.738\n",
            "INFO:tensorflow:loss = 0.39738584, step = 3100 (0.620 sec)\n",
            "INFO:tensorflow:global_step/sec: 157.054\n",
            "INFO:tensorflow:loss = 0.41045025, step = 3200 (0.643 sec)\n",
            "WARNING:tensorflow:It seems that global step (tf.train.get_global_step) has not been increased. Current value (could be stable): 3201 vs previous value: 3201. You could increase the global step by passing tf.train.get_global_step() to Optimizer.apply_gradients or Optimizer.minimize.\n",
            "INFO:tensorflow:global_step/sec: 158.943\n",
            "INFO:tensorflow:loss = 0.35969532, step = 3300 (0.625 sec)\n",
            "INFO:tensorflow:global_step/sec: 160.413\n",
            "INFO:tensorflow:loss = 0.44743606, step = 3400 (0.624 sec)\n",
            "INFO:tensorflow:global_step/sec: 162.955\n",
            "INFO:tensorflow:loss = 0.35950404, step = 3500 (0.613 sec)\n",
            "INFO:tensorflow:global_step/sec: 159.847\n",
            "INFO:tensorflow:loss = 0.34903318, step = 3600 (0.626 sec)\n",
            "INFO:tensorflow:global_step/sec: 162.755\n",
            "INFO:tensorflow:loss = 0.36983708, step = 3700 (0.614 sec)\n",
            "INFO:tensorflow:global_step/sec: 164.103\n",
            "INFO:tensorflow:loss = 0.4994681, step = 3800 (0.609 sec)\n",
            "INFO:tensorflow:global_step/sec: 160.124\n",
            "INFO:tensorflow:loss = 0.33142605, step = 3900 (0.625 sec)\n",
            "INFO:tensorflow:global_step/sec: 163.087\n",
            "INFO:tensorflow:loss = 0.3975772, step = 4000 (0.611 sec)\n",
            "INFO:tensorflow:global_step/sec: 161.177\n",
            "INFO:tensorflow:loss = 0.47364628, step = 4100 (0.622 sec)\n",
            "INFO:tensorflow:global_step/sec: 162.236\n",
            "INFO:tensorflow:loss = 0.3766685, step = 4200 (0.614 sec)\n",
            "INFO:tensorflow:global_step/sec: 159.229\n",
            "INFO:tensorflow:loss = 0.34554702, step = 4300 (0.629 sec)\n",
            "INFO:tensorflow:global_step/sec: 161.872\n",
            "INFO:tensorflow:loss = 0.39433408, step = 4400 (0.620 sec)\n",
            "INFO:tensorflow:global_step/sec: 161.726\n",
            "INFO:tensorflow:loss = 0.31726044, step = 4500 (0.618 sec)\n",
            "INFO:tensorflow:global_step/sec: 160.776\n",
            "INFO:tensorflow:loss = 0.39844027, step = 4600 (0.623 sec)\n",
            "INFO:tensorflow:global_step/sec: 159.174\n",
            "INFO:tensorflow:loss = 0.383343, step = 4700 (0.627 sec)\n",
            "INFO:tensorflow:global_step/sec: 159.596\n",
            "INFO:tensorflow:loss = 0.32625863, step = 4800 (0.628 sec)\n",
            "INFO:tensorflow:global_step/sec: 148.124\n",
            "INFO:tensorflow:loss = 0.4079306, step = 4900 (0.674 sec)\n",
            "INFO:tensorflow:global_step/sec: 150.69\n",
            "INFO:tensorflow:loss = 0.30859998, step = 5000 (0.664 sec)\n",
            "INFO:tensorflow:global_step/sec: 160.595\n",
            "INFO:tensorflow:loss = 0.4580575, step = 5100 (0.622 sec)\n",
            "INFO:tensorflow:global_step/sec: 159.177\n",
            "INFO:tensorflow:loss = 0.31837505, step = 5200 (0.628 sec)\n",
            "INFO:tensorflow:global_step/sec: 164.437\n",
            "INFO:tensorflow:loss = 0.35638493, step = 5300 (0.608 sec)\n",
            "INFO:tensorflow:global_step/sec: 160.3\n",
            "INFO:tensorflow:loss = 0.40938434, step = 5400 (0.624 sec)\n",
            "INFO:tensorflow:global_step/sec: 153.414\n",
            "INFO:tensorflow:loss = 0.37965843, step = 5500 (0.651 sec)\n",
            "INFO:tensorflow:global_step/sec: 164.812\n",
            "INFO:tensorflow:loss = 0.30522284, step = 5600 (0.608 sec)\n",
            "INFO:tensorflow:global_step/sec: 159.505\n",
            "INFO:tensorflow:loss = 0.36030933, step = 5700 (0.626 sec)\n",
            "INFO:tensorflow:global_step/sec: 159.766\n",
            "INFO:tensorflow:loss = 0.31798396, step = 5800 (0.626 sec)\n",
            "INFO:tensorflow:global_step/sec: 161.158\n",
            "INFO:tensorflow:loss = 0.29062077, step = 5900 (0.620 sec)\n",
            "INFO:tensorflow:global_step/sec: 159.005\n",
            "INFO:tensorflow:loss = 0.3256015, step = 6000 (0.630 sec)\n",
            "INFO:tensorflow:global_step/sec: 159.578\n",
            "INFO:tensorflow:loss = 0.387517, step = 6100 (0.626 sec)\n",
            "INFO:tensorflow:global_step/sec: 160.992\n",
            "INFO:tensorflow:loss = 0.36823142, step = 6200 (0.621 sec)\n",
            "INFO:tensorflow:global_step/sec: 162.958\n",
            "INFO:tensorflow:loss = 0.517492, step = 6300 (0.611 sec)\n",
            "INFO:tensorflow:global_step/sec: 158.892\n",
            "INFO:tensorflow:loss = 0.3555359, step = 6400 (0.630 sec)\n",
            "INFO:tensorflow:global_step/sec: 160.459\n",
            "INFO:tensorflow:loss = 0.38778096, step = 6500 (0.624 sec)\n",
            "INFO:tensorflow:global_step/sec: 161.128\n",
            "INFO:tensorflow:loss = 0.38554123, step = 6600 (0.620 sec)\n",
            "INFO:tensorflow:global_step/sec: 160.485\n",
            "INFO:tensorflow:loss = 0.36818755, step = 6700 (0.624 sec)\n",
            "INFO:tensorflow:global_step/sec: 163.302\n",
            "INFO:tensorflow:loss = 0.35388383, step = 6800 (0.613 sec)\n",
            "INFO:tensorflow:global_step/sec: 162.463\n",
            "INFO:tensorflow:loss = 0.39306912, step = 6900 (0.617 sec)\n",
            "INFO:tensorflow:global_step/sec: 157.036\n",
            "INFO:tensorflow:loss = 0.3189517, step = 7000 (0.635 sec)\n",
            "INFO:tensorflow:global_step/sec: 158.478\n",
            "INFO:tensorflow:loss = 0.35853648, step = 7100 (0.629 sec)\n",
            "INFO:tensorflow:global_step/sec: 159.307\n",
            "INFO:tensorflow:loss = 0.43419376, step = 7200 (0.630 sec)\n",
            "INFO:tensorflow:global_step/sec: 156.957\n",
            "INFO:tensorflow:loss = 0.33754212, step = 7300 (0.637 sec)\n",
            "INFO:tensorflow:global_step/sec: 158.967\n",
            "INFO:tensorflow:loss = 0.45383847, step = 7400 (0.629 sec)\n",
            "INFO:tensorflow:global_step/sec: 159.974\n",
            "INFO:tensorflow:loss = 0.41545323, step = 7500 (0.626 sec)\n",
            "INFO:tensorflow:global_step/sec: 160.227\n",
            "INFO:tensorflow:loss = 0.4002485, step = 7600 (0.623 sec)\n",
            "INFO:tensorflow:global_step/sec: 161.808\n",
            "INFO:tensorflow:loss = 0.29782838, step = 7700 (0.618 sec)\n",
            "INFO:tensorflow:global_step/sec: 157.737\n",
            "INFO:tensorflow:loss = 0.43616626, step = 7800 (0.634 sec)\n",
            "INFO:tensorflow:global_step/sec: 148.172\n",
            "INFO:tensorflow:loss = 0.2777749, step = 7900 (0.676 sec)\n",
            "INFO:tensorflow:global_step/sec: 154.218\n",
            "INFO:tensorflow:loss = 0.3530464, step = 8000 (0.647 sec)\n",
            "INFO:tensorflow:global_step/sec: 153.19\n",
            "INFO:tensorflow:loss = 0.38029927, step = 8100 (0.653 sec)\n",
            "INFO:tensorflow:global_step/sec: 155.759\n",
            "INFO:tensorflow:loss = 0.44379792, step = 8200 (0.640 sec)\n",
            "INFO:tensorflow:global_step/sec: 155.131\n",
            "INFO:tensorflow:loss = 0.43647233, step = 8300 (0.647 sec)\n",
            "INFO:tensorflow:global_step/sec: 155.135\n",
            "INFO:tensorflow:loss = 0.35782325, step = 8400 (0.642 sec)\n",
            "INFO:tensorflow:global_step/sec: 156.726\n",
            "INFO:tensorflow:loss = 0.3352889, step = 8500 (0.641 sec)\n",
            "INFO:tensorflow:global_step/sec: 151.105\n",
            "INFO:tensorflow:loss = 0.3711079, step = 8600 (0.660 sec)\n",
            "INFO:tensorflow:global_step/sec: 152.833\n",
            "INFO:tensorflow:loss = 0.32437012, step = 8700 (0.654 sec)\n",
            "INFO:tensorflow:global_step/sec: 158.258\n",
            "INFO:tensorflow:loss = 0.33630192, step = 8800 (0.632 sec)\n",
            "INFO:tensorflow:global_step/sec: 158.319\n",
            "INFO:tensorflow:loss = 0.28143668, step = 8900 (0.632 sec)\n",
            "INFO:tensorflow:global_step/sec: 159.35\n",
            "INFO:tensorflow:loss = 0.4459238, step = 9000 (0.627 sec)\n",
            "INFO:tensorflow:global_step/sec: 162.783\n",
            "INFO:tensorflow:loss = 0.36134765, step = 9100 (0.615 sec)\n",
            "INFO:tensorflow:global_step/sec: 158.847\n",
            "INFO:tensorflow:loss = 0.31015044, step = 9200 (0.628 sec)\n",
            "INFO:tensorflow:global_step/sec: 155.879\n",
            "INFO:tensorflow:loss = 0.30702695, step = 9300 (0.640 sec)\n",
            "INFO:tensorflow:global_step/sec: 154.167\n",
            "INFO:tensorflow:loss = 0.51321965, step = 9400 (0.650 sec)\n",
            "INFO:tensorflow:global_step/sec: 151.265\n",
            "INFO:tensorflow:loss = 0.3159731, step = 9500 (0.662 sec)\n",
            "INFO:tensorflow:global_step/sec: 151.835\n",
            "INFO:tensorflow:loss = 0.45082152, step = 9600 (0.658 sec)\n",
            "INFO:tensorflow:global_step/sec: 152.403\n",
            "INFO:tensorflow:loss = 0.37713695, step = 9700 (0.656 sec)\n",
            "INFO:tensorflow:global_step/sec: 153.942\n",
            "INFO:tensorflow:loss = 0.47588548, step = 9800 (0.650 sec)\n",
            "INFO:tensorflow:global_step/sec: 155.578\n",
            "INFO:tensorflow:loss = 0.28152207, step = 9900 (0.643 sec)\n",
            "INFO:tensorflow:Calling checkpoint listeners before saving checkpoint 10000...\n",
            "INFO:tensorflow:Saving checkpoints for 10000 into /tmp/tmp8rkaq9q3/model.ckpt.\n",
            "INFO:tensorflow:Calling checkpoint listeners after saving checkpoint 10000...\n",
            "INFO:tensorflow:Loss for final step: 0.31639645.\n",
            "INFO:tensorflow:Calling model_fn.\n",
            "INFO:tensorflow:Done calling model_fn.\n",
            "INFO:tensorflow:Graph was finalized.\n",
            "INFO:tensorflow:Restoring parameters from /tmp/tmp8rkaq9q3/model.ckpt-10000\n",
            "INFO:tensorflow:Running local_init_op.\n",
            "INFO:tensorflow:Done running local_init_op.\n",
            "              precision    recall  f1-score   support\n",
            "\n",
            "         0.0       0.83      0.86      0.84        91\n",
            "         1.0       0.73      0.69      0.71        52\n",
            "\n",
            "    accuracy                           0.80       143\n",
            "   macro avg       0.78      0.77      0.78       143\n",
            "weighted avg       0.80      0.80      0.80       143\n",
            "\n"
          ],
          "name": "stdout"
        }
      ]
    }
  ]
}